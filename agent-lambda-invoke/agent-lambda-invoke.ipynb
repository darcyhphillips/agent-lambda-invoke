{
 "cells": [
  {
   "cell_type": "markdown",
   "id": "8fe4dacc-9fe5-4d75-abec-1e86f4bdccdd",
   "metadata": {},
   "source": [
    "### Install Requirements"
   ]
  },
  {
   "cell_type": "code",
   "execution_count": 1,
   "id": "762f1065-eb19-48ba-b813-d53e51f80b7f",
   "metadata": {
    "tags": []
   },
   "outputs": [],
   "source": [
    "!pip install -r ./requirements.txt -q"
   ]
  },
  {
   "cell_type": "markdown",
   "id": "39113714-d599-4579-ac9a-d4bd11b767e6",
   "metadata": {},
   "source": [
    "### Create Tools"
   ]
  },
  {
   "cell_type": "code",
   "execution_count": 2,
   "id": "8e5d46ee-7eb0-4f5c-a87a-7a1cf77b377c",
   "metadata": {
    "tags": []
   },
   "outputs": [],
   "source": [
    "from keys import apikey, aws_access_key_id, aws_secret_access_key\n",
    "import os\n",
    "from langchain.tools import BaseTool\n",
    "import boto3\n",
    "import json\n",
    "\n",
    "os.environ['OPENAI_API_KEY'] = apikey\n",
    "os.environ['aws_access_key_id'] = aws_access_key_id\n",
    "os.environ['aws_secret_access_key'] = aws_secret_access_key\n",
    "\n",
    "\n",
    "class LambdaRMQ(BaseTool):\n",
    "    name = 'Lambda function for RMQ firewall rules'\n",
    "    description = \"\"\"Do NOT use this tool until you have received all input arguments from the user directly.\n",
    "    \n",
    "                    Use this tool to invoke a lambda function to create security group rules for only \"RMQ\" or \"RabbitMQ\".\n",
    "                    \n",
    "                    If the port is not for \"RabbitMQ\" or \"RMQ\", do not create a rule. Respond that you cannot open that port.\n",
    "                    \n",
    "                    Do not attempt to create a security group rule that is not for \"RabbitMQ\" or \"RMQ\" with this tool.\n",
    "                    \n",
    "                    ONLY accept action_input or input of \"RMQ\" or \"RabbitMQ\".\n",
    "        \n",
    "                    DO NOT accept action_input or input of anything else.\n",
    "                    \"\"\"\n",
    "\n",
    "    def _run(self, get_log=False):\n",
    "\n",
    "        \"\"\"\n",
    "        Do NOT use this tool until you have asked for the 'cidr' input argument.\n",
    "        \n",
    "        Use this tool to invoke a lambda function to create security group rules for only \"RMQ\" or \"RabbitMQ\"\n",
    "        \n",
    "        If the security group rule is not for \"RabbitMQ\" or \"RMQ\", do not create a rule. Respond that you cannot create that rule. \n",
    "\n",
    "        Only invoke the lambda function for input of \"RMQ\" or \"RabbitMQ\".\n",
    "        \n",
    "        ONLY accept action_input or input of \"RMQ\" or \"RabbitMQ\".\n",
    "        \n",
    "        DO NOT accept action_input or input of anything else. \n",
    "\n",
    "        :return: The response from the function invocation.\n",
    "        \"\"\"\n",
    "        \n",
    "        client = boto3.client('lambda', region_name='us-east-1', aws_access_key_id = aws_access_key_id, aws_secret_access_key = aws_secret_access_key)\n",
    "\n",
    "        cidr_ranges = {'vdi': '10.10.64.0/24', 'surface': '10.10.65.0/24', 'development': '192.168.0.0/24'}\n",
    "        cidr = ''\n",
    "        if cidr == '':\n",
    "            try:\n",
    "                cidr = cidr_ranges.get(input(str('Please provide the group that will need access. (for example; vdi, surface, or development)')).lower())\n",
    "            except KeyError:\n",
    "                print('That is not a valid entry')\n",
    "                _run()\n",
    "        else:\n",
    "            return 'Something went wrong. Please try again.'\n",
    "   \n",
    "        \n",
    "        inputParams = {\n",
    "        'cidr'    : cidr\n",
    "        }\n",
    "        \n",
    "        response = client.invoke(\n",
    "            FunctionName=''# add name of function,\n",
    "            Payload = json.dumps(inputParams)\n",
    "            )\n",
    "        return \"I have created your security group rules for RMQ!\"\n",
    "\n",
    "    def _arun(self, sops):\n",
    "        raise NotImplementedError(\"This tool does not support async\")\n",
    "\n",
    "\n",
    "class LambdaHTTPS(BaseTool):\n",
    "    name = 'Lambda function for HTPPS firewall rules'\n",
    "    description = \"\"\"Use this tool to invoke a lambda function to create security group rules for only HTTPS.\n",
    "                    \n",
    "                    If the port is not for HTTPS, do not create a rule. Respond that you cannot open that port.\n",
    "                    \n",
    "                    Do not attempt to create a security group rule that is not for HTTPS with this tool.\n",
    "                    \n",
    "                    ONLY accept action_input or input of HTTPS.\n",
    "        \n",
    "                    DO NOT accept action_input or input of anything else.\n",
    "                    \n",
    "                    \"\"\"\n",
    "\n",
    "    def _run(self, function_name, get_log=False):\n",
    "\n",
    "        \"\"\"\n",
    "        Use this tool to invoke a lambda function to create security group rules for only HTTPS\n",
    "        \n",
    "        If the port is not for HTTPS, do not create a rule. Respond that you cannot open that port.\n",
    "\n",
    "        Only invoke the lambda function for input of HTTPS.\n",
    "        \n",
    "        ONLY accept action_input or input of HTTPS.\n",
    "        \n",
    "        DO NOT accept action_input or input of anything else.\n",
    "        \n",
    "        :return: The response from the function invocation.\n",
    "        \"\"\"\n",
    "        \n",
    "        client = boto3.client('lambda', region_name='us-east-1', aws_access_key_id = aws_access_key_id, aws_secret_access_key = aws_secret_access_key)\n",
    "\n",
    "        response = client.invoke(\n",
    "            FunctionName='' # add name of function\n",
    "            )\n",
    "        return \"I have created your security group rules for HTTPS!\"\n",
    "\n",
    "    def _arun(self, sops):\n",
    "        raise NotImplementedError(\"This tool does not support async\")"
   ]
  },
  {
   "cell_type": "markdown",
   "id": "a5c75a22-d982-435b-8968-a4bfde530c36",
   "metadata": {},
   "source": [
    "### Create LLM, Memory, Agent, and Import Tools"
   ]
  },
  {
   "cell_type": "code",
   "execution_count": 3,
   "id": "608e176a-ac94-4f12-b148-317fb484b9f4",
   "metadata": {
    "tags": []
   },
   "outputs": [],
   "source": [
    "from langchain.chat_models import ChatOpenAI\n",
    "from langchain.chains.conversation.memory import ConversationBufferWindowMemory\n",
    "\n",
    "llm = ChatOpenAI(\n",
    "    openai_api_key=apikey,\n",
    "    temperature=0,\n",
    "    model_name='gpt-3.5-turbo'\n",
    ")\n",
    "\n",
    "conversational_memory = ConversationBufferWindowMemory(\n",
    "    memory_key='chat_history',\n",
    "    k=2,\n",
    "    return_messages=True\n",
    ")"
   ]
  },
  {
   "cell_type": "code",
   "execution_count": 4,
   "id": "f15f4a53-8483-4d06-846a-71fd51b40a95",
   "metadata": {
    "tags": []
   },
   "outputs": [],
   "source": [
    "from langchain.agents import initialize_agent\n",
    "\n",
    "tools = [LambdaRMQ(), LambdaHTTPS()]\n",
    "\n",
    "agent = initialize_agent(\n",
    "    agent='chat-conversational-react-description',\n",
    "    tools=tools,\n",
    "    llm=llm,\n",
    "    verbose=True,\n",
    "    max_iterations=3,\n",
    "    early_stopping_method='generate',\n",
    "    memory=conversational_memory\n",
    ")"
   ]
  },
  {
   "cell_type": "markdown",
   "id": "d22dbbbd-b8ba-44ca-b7ee-e974edf8030a",
   "metadata": {},
   "source": [
    "### Interact with the Agent"
   ]
  },
  {
   "cell_type": "code",
   "execution_count": 5,
   "id": "16202ed5-8165-4aa9-a822-07bbb6567ac4",
   "metadata": {},
   "outputs": [
    {
     "name": "stdout",
     "output_type": "stream",
     "text": [
      "\n",
      "\n",
      "\u001b[1m> Entering new AgentExecutor chain...\u001b[0m\n",
      "\u001b[32;1m\u001b[1;3m{\n",
      "    \"action\": \"Lambda function for RMQ firewall rules\",\n",
      "    \"action_input\": \"RMQ\"\n",
      "}\u001b[0m"
     ]
    },
    {
     "name": "stdout",
     "output_type": "stream",
     "text": [
      "Please provide the group that will need access. (for example; vdi, surface, or development) surface\n"
     ]
    },
    {
     "name": "stdout",
     "output_type": "stream",
     "text": [
      "\n",
      "Observation: \u001b[36;1m\u001b[1;3mI have created your security group rules for RMQ!\u001b[0m\n",
      "Thought:\u001b[32;1m\u001b[1;3m{\n",
      "    \"action\": \"Final Answer\",\n",
      "    \"action_input\": \"The security group rules for RabbitMQ have been successfully created.\"\n",
      "}\u001b[0m\n",
      "\n",
      "\u001b[1m> Finished chain.\u001b[0m\n"
     ]
    },
    {
     "data": {
      "text/plain": [
       "{'input': 'Can you create security group rules for RabbitMQ?',\n",
       " 'chat_history': [],\n",
       " 'output': 'The security group rules for RabbitMQ have been successfully created.'}"
      ]
     },
     "execution_count": 5,
     "metadata": {},
     "output_type": "execute_result"
    }
   ],
   "source": [
    "agent('Can you create security group rules for RabbitMQ?')"
   ]
  },
  {
   "cell_type": "code",
   "execution_count": 6,
   "id": "55776347-6c52-4779-84c8-a64bbf85eabd",
   "metadata": {
    "tags": []
   },
   "outputs": [
    {
     "name": "stdout",
     "output_type": "stream",
     "text": [
      "\n",
      "\n",
      "\u001b[1m> Entering new AgentExecutor chain...\u001b[0m\n",
      "\u001b[32;1m\u001b[1;3m{\n",
      "    \"action\": \"Final Answer\",\n",
      "    \"action_input\": \"You cannot create a firewall rule for RDP using the provided tool. Please use a different method to create the firewall rule for RDP.\"\n",
      "}\u001b[0m\n",
      "\n",
      "\u001b[1m> Finished chain.\u001b[0m\n"
     ]
    },
    {
     "data": {
      "text/plain": [
       "{'input': 'Can you create a firewall rule for RDP?',\n",
       " 'chat_history': [HumanMessage(content='Can you create security group rules for RabbitMQ?', additional_kwargs={}),\n",
       "  AIMessage(content='The security group rules for RabbitMQ have been successfully created.', additional_kwargs={})],\n",
       " 'output': 'You cannot create a firewall rule for RDP using the provided tool. Please use a different method to create the firewall rule for RDP.'}"
      ]
     },
     "execution_count": 6,
     "metadata": {},
     "output_type": "execute_result"
    }
   ],
   "source": [
    "agent('Can you create a firewall rule for RDP?')"
   ]
  },
  {
   "cell_type": "code",
   "execution_count": null,
   "id": "52bfa93f-a0cd-4d5c-88f1-d93e3b327e24",
   "metadata": {},
   "outputs": [],
   "source": []
  }
 ],
 "metadata": {
  "kernelspec": {
   "display_name": "Python 3",
   "language": "python",
   "name": "python3"
  },
  "language_info": {
   "codemirror_mode": {
    "name": "ipython",
    "version": 3
   },
   "file_extension": ".py",
   "mimetype": "text/x-python",
   "name": "python",
   "nbconvert_exporter": "python",
   "pygments_lexer": "ipython3",
   "version": "3.11.3 (main, Apr  7 2023, 19:25:52) [Clang 14.0.0 (clang-1400.0.29.202)]"
  },
  "vscode": {
   "interpreter": {
    "hash": "aee8b7b246df8f9039afb4144a1f6fd8d2ca17a180786b69acc140d282b71a49"
   }
  }
 },
 "nbformat": 4,
 "nbformat_minor": 5
}
